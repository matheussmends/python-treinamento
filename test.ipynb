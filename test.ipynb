{
 "cells": [
  {
   "cell_type": "code",
   "execution_count": 9,
   "metadata": {},
   "outputs": [
    {
     "name": "stdout",
     "output_type": "stream",
     "text": [
      "O Leon é foda memo, seloco...\n",
      "O Leon é foda memo, seloco...\n",
      "O Leon é foda memo, seloco...\n",
      "O Leon é foda memo, seloco...\n"
     ]
    }
   ],
   "source": [
    "while True:\n",
    "    resposta = input(\"Você acha o Leon foda? (sim/não): \").strip().lower()\n",
    "    if resposta == \"sim\":\n",
    "        print(\"O Leon é foda memo, seloco...\")\n",
    "    elif resposta == \"não\":\n",
    "        break"
   ]
  }
 ],
 "metadata": {
  "kernelspec": {
   "display_name": "Python 3",
   "language": "python",
   "name": "python3"
  },
  "language_info": {
   "codemirror_mode": {
    "name": "ipython",
    "version": 3
   },
   "file_extension": ".py",
   "mimetype": "text/x-python",
   "name": "python",
   "nbconvert_exporter": "python",
   "pygments_lexer": "ipython3",
   "version": "3.13.1"
  }
 },
 "nbformat": 4,
 "nbformat_minor": 2
}
